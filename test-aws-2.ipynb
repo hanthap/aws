{
 "cells": [
  {
   "cell_type": "code",
   "execution_count": 4,
   "metadata": {},
   "outputs": [],
   "source": [
    "import boto3\n",
    "import json"
   ]
  },
  {
   "cell_type": "code",
   "execution_count": 15,
   "metadata": {},
   "outputs": [],
   "source": [
    "session = boto3.Session(profile_name='my-sso-profile',region_name='ap-southeast-2')\n",
    "# Create a boto3 client for Lambda\n",
    "lambda_client = session.client('lambda')"
   ]
  },
  {
   "cell_type": "code",
   "execution_count": 16,
   "metadata": {},
   "outputs": [
    {
     "name": "stdout",
     "output_type": "stream",
     "text": [
      "{'statusCode': 200, 'body': 'Hello from Peter!'}\n"
     ]
    }
   ],
   "source": [
    "# Define the function name and the payload\n",
    "function_name = 'PythonHelloWorld'\n",
    "payload = {\n",
    "    \"key1\": \"value1\",\n",
    "    \"key2\": \"value2\"\n",
    "}\n",
    "\n",
    "# Invoke the Lambda function\n",
    "response = lambda_client.invoke(\n",
    "    FunctionName=function_name,\n",
    "    InvocationType='RequestResponse',  # 'Event' for asynchronous invocation\n",
    "    Payload=json.dumps(payload)\n",
    ")\n",
    "\n",
    "# Read the response\n",
    "response_payload = json.loads(response['Payload'].read())\n",
    "\n",
    "# Print the response payload\n",
    "print(response_payload)"
   ]
  }
 ],
 "metadata": {
  "kernelspec": {
   "display_name": "base",
   "language": "python",
   "name": "python3"
  },
  "language_info": {
   "codemirror_mode": {
    "name": "ipython",
    "version": 3
   },
   "file_extension": ".py",
   "mimetype": "text/x-python",
   "name": "python",
   "nbconvert_exporter": "python",
   "pygments_lexer": "ipython3",
   "version": "3.11.7"
  }
 },
 "nbformat": 4,
 "nbformat_minor": 2
}
